{
 "cells": [
  {
   "cell_type": "code",
   "execution_count": 1,
   "id": "38d3ce5f-e3b4-429b-af6c-28a484bcc97d",
   "metadata": {},
   "outputs": [],
   "source": [
    "#Q1.\n",
    "# For loop:\n",
    "# Use a for loop when you want to iterate over a sequence\n",
    "# (such as a list, tuple, or string) and perform the same action\n",
    "# for each item in the sequence.\n",
    "#  Example :-\n",
    "#     l1 = [\"Pushpam\",\"kumar\",\"Jha\",\"Pwskills\"]\n",
    "#     for i in l1 :\n",
    "#         print(i)\n",
    "        \n",
    "# While loop:\n",
    "# Use a while loop when you want to keep \n",
    "# repeating an action until a certain condition is met.\n",
    "#  Example:-\n",
    "#     i = 0\n",
    "#     sum = 0\n",
    "#     while i < 10:\n",
    "#         sum+=i\n",
    "#         i+=1"
   ]
  },
  {
   "cell_type": "code",
   "execution_count": 7,
   "id": "7f54b56e-082e-4339-9c60-70aa7828901a",
   "metadata": {},
   "outputs": [
    {
     "name": "stdout",
     "output_type": "stream",
     "text": [
      "product is 3628800and sum is 55\n",
      "product is 3628800and sum is 55\n"
     ]
    }
   ],
   "source": [
    "#Q2.\n",
    "n=10\n",
    "fact=1\n",
    "sum=0\n",
    "while n>0:\n",
    "    sum+=n\n",
    "    fact*=n\n",
    "    n-=1\n",
    "print(\"product is \"+ str(fact) +\"and sum is \"+ str(sum)) \n",
    "n=10\n",
    "fact=1\n",
    "sum=0\n",
    "for i in range(1,n+1):\n",
    "    sum+=i\n",
    "    fact*=i\n",
    "print(\"product is \"+ str(fact) +\"and sum is \"+ str(sum)) "
   ]
  },
  {
   "cell_type": "code",
   "execution_count": 6,
   "id": "d047313d-a780-47d7-86e6-7fb17be1d405",
   "metadata": {},
   "outputs": [
    {
     "name": "stdin",
     "output_type": "stream",
     "text": [
      " 310\n"
     ]
    },
    {
     "name": "stdout",
     "output_type": "stream",
     "text": [
      "2250.0\n"
     ]
    }
   ],
   "source": [
    "unit= int(input())\n",
    "charge=0.0\n",
    "if unit<=100:\n",
    "    charge=unit*4.5\n",
    "elif unit>100 and unit<=200:\n",
    "    charge=100*4.5\n",
    "    unit-=100\n",
    "    charge+=(unit*6)\n",
    "elif unit>200 and unit<=300:\n",
    "    charge=100*4.5\n",
    "    charge+=(100*6)\n",
    "    unit-=200\n",
    "    charge+=(unit*10)\n",
    "else:\n",
    "    charge=100*4.5\n",
    "    charge+=(100*6)\n",
    "    charge+=(100*10)\n",
    "    unit-=300\n",
    "    charge+=(unit*20)\n",
    "print(charge)"
   ]
  },
  {
   "cell_type": "code",
   "execution_count": 2,
   "id": "278675a8-7160-4b17-91c4-ad554e9ec8a6",
   "metadata": {},
   "outputs": [
    {
     "name": "stdout",
     "output_type": "stream",
     "text": [
      "answer using foor loop\n",
      "[8, 64, 125, 216, 512, 1000, 1728, 2744, 3375, 4096, 5832, 8000, 10648, 13824, 15625, 17576, 21952, 27000, 32768, 39304, 42875, 46656, 54872, 64000, 74088, 85184, 91125, 97336, 110592, 125000, 140608, 157464, 166375, 175616, 195112, 216000, 238328, 262144, 274625, 287496, 314432, 343000, 373248, 405224, 421875, 438976, 474552, 512000, 551368, 592704, 614125, 636056, 681472, 729000, 778688, 830584, 857375, 884736, 941192, 1000000]\n",
      "answer using while loop\n",
      "[1000000, 941192, 884736, 857375, 830584, 778688, 729000, 681472, 636056, 614125, 592704, 551368, 512000, 474552, 438976, 421875, 405224, 373248, 343000, 314432, 287496, 274625, 262144, 238328, 216000, 195112, 175616, 166375, 157464, 140608, 125000, 110592, 97336, 91125, 85184, 74088, 64000, 54872, 46656, 42875, 39304, 32768, 27000, 21952, 17576, 15625, 13824, 10648, 8000, 5832, 4096, 3375, 2744, 1728, 1000, 512, 216, 125, 64, 8]\n"
     ]
    }
   ],
   "source": [
    "#Q4.\n",
    "l=[]\n",
    "ans=[]\n",
    "for i in range(1,101):\n",
    "    l.append(i)\n",
    "\n",
    "for i in l:\n",
    "    x=i**3\n",
    "    if x%4==0 or x%5==0:\n",
    "        ans.append(x)\n",
    "print(\"answer using foor loop\")\n",
    "print(ans)\n",
    "\n",
    "ans1=[]\n",
    "i=100\n",
    "while i>0:\n",
    "    x=i**3\n",
    "    if x%4==0 or x%5==0:\n",
    "        ans1.append(x)\n",
    "    i-=1\n",
    "print(\"answer using while loop\")\n",
    "print(ans1)"
   ]
  },
  {
   "cell_type": "code",
   "execution_count": 7,
   "id": "a9a671b0-9e8a-4b92-8e94-6ddcd15eba48",
   "metadata": {},
   "outputs": [
    {
     "name": "stdout",
     "output_type": "stream",
     "text": [
      "12\n"
     ]
    }
   ],
   "source": [
    "#Q5.\n",
    "s = \"I want to become a data scientist\"\n",
    "vowels_count=0\n",
    "for i in s:\n",
    "    if i.lower() in ['a', 'e', 'i', 'o', 'u']:\n",
    "        vowels_count+=1\n",
    "print(vowels_count)"
   ]
  },
  {
   "cell_type": "code",
   "execution_count": null,
   "id": "a487b091-f22a-4a88-bf1f-2363ca5c06a3",
   "metadata": {},
   "outputs": [],
   "source": []
  }
 ],
 "metadata": {
  "kernelspec": {
   "display_name": "Python 3 (ipykernel)",
   "language": "python",
   "name": "python3"
  },
  "language_info": {
   "codemirror_mode": {
    "name": "ipython",
    "version": 3
   },
   "file_extension": ".py",
   "mimetype": "text/x-python",
   "name": "python",
   "nbconvert_exporter": "python",
   "pygments_lexer": "ipython3",
   "version": "3.10.8"
  }
 },
 "nbformat": 4,
 "nbformat_minor": 5
}
