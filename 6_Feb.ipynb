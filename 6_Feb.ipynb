{
 "cells": [
  {
   "cell_type": "code",
   "execution_count": 5,
   "id": "2f480e15-66d0-4c68-96ab-a93bc8766723",
   "metadata": {},
   "outputs": [
    {
     "name": "stdout",
     "output_type": "stream",
     "text": [
      "dict_keys([1, 'key2', 4])\n",
      "dict_items([(1, 34), ('key2', [55, 67, 78, 89]), (4, (45, 22, 61, 34))])\n",
      "[1, 2, 3, 4, 44, 55, 66, 34, 56, 78, 89, 34, 1, 2, 3, 1, 4, 56]\n",
      "2315262738624675840\n"
     ]
    }
   ],
   "source": [
    "#Q1.\n",
    "from collections.abc import Iterable\n",
    "\n",
    "def flatten_list(lst):\n",
    "    result = []\n",
    "    for i in lst:\n",
    "        if type(i)==int:\n",
    "            result.append(i)\n",
    "        elif type(i)==list or type(i)==tuple or type(i)==set:\n",
    "            for j in i:\n",
    "                if type(j)==int:\n",
    "                    result.append(j)\n",
    "        elif type(i)==dict:\n",
    "            print(i.keys())\n",
    "            print(i.items())\n",
    "            for j in i.keys():\n",
    "                if type(j)==int:\n",
    "                    result.append(j)\n",
    "            for j in i.items():\n",
    "                if type(j)==int:\n",
    "                    result.append(j)\n",
    "    return result\n",
    "\n",
    "def product_of_numbers(lst):\n",
    "    flattened_list = flatten_list(lst)\n",
    "    print(flattened_list)\n",
    "    result = 1\n",
    "    for item in flattened_list:\n",
    "        result *= item\n",
    "    return result\n",
    "\n",
    "list1 = [1,2,3,4, [44,55,66, True], False, (34,56,78,89,34), {1,2,3,3,2,1}, {1:34, \"key2\": [55, 67, 78, 89], 4: (45, 22, 61, 34)}, [56, 'data science'], 'Machine Learning']\n",
    "print(product_of_numbers(list1))\n"
   ]
  },
  {
   "cell_type": "code",
   "execution_count": 11,
   "id": "19e2e003-5420-4b0b-b9f9-1a1b98d42d13",
   "metadata": {},
   "outputs": [
    {
     "name": "stdout",
     "output_type": "stream",
     "text": [
      "r#dzmg#gl#yvxlnv#z#wzgz#hxrvmgrhg.\n"
     ]
    }
   ],
   "source": [
    "#Q2.\n",
    "def encryption (s):\n",
    "    s=s.lower()\n",
    "    res=\"\"\n",
    "    for i in s:\n",
    "        if i == \" \":\n",
    "            res += '#'\n",
    "        elif i.isalpha():\n",
    "            res += chr(122 - ord(i) + 97)\n",
    "        else:\n",
    "            res += i\n",
    "    return res\n",
    "s=\"I want to become a Data Scientist.\"\n",
    "res=encryption(s)\n",
    "print(res)"
   ]
  },
  {
   "cell_type": "code",
   "execution_count": null,
   "id": "67bca745-be1d-4c25-b608-90b3a0facb0c",
   "metadata": {},
   "outputs": [],
   "source": []
  }
 ],
 "metadata": {
  "kernelspec": {
   "display_name": "Python 3 (ipykernel)",
   "language": "python",
   "name": "python3"
  },
  "language_info": {
   "codemirror_mode": {
    "name": "ipython",
    "version": 3
   },
   "file_extension": ".py",
   "mimetype": "text/x-python",
   "name": "python",
   "nbconvert_exporter": "python",
   "pygments_lexer": "ipython3",
   "version": "3.10.8"
  }
 },
 "nbformat": 4,
 "nbformat_minor": 5
}
