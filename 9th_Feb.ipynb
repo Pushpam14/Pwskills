{
 "cells": [
  {
   "cell_type": "code",
   "execution_count": 2,
   "id": "cd688817-2091-4889-af72-479031b8478c",
   "metadata": {},
   "outputs": [],
   "source": [
    "#Q1.\n",
    "class vehicle :\n",
    "    \n",
    "    def __init__(self,name,max_speed,avg) :\n",
    "        self.name_of_vehicle=name\n",
    "        self.max_speed=max_speed\n",
    "        self.average_of_vehicle=avg\n",
    "    "
   ]
  },
  {
   "cell_type": "code",
   "execution_count": 11,
   "id": "1d7dcfc4-e906-4a51-b7e3-8343219cd7ec",
   "metadata": {},
   "outputs": [],
   "source": [
    "#Q2.\n",
    "class car(vehicle):\n",
    "    def seating_capacity(self, capacity):\n",
    "        return f\"{self.name_of_vehicle} has a seating capacity of {capacity}.\""
   ]
  },
  {
   "cell_type": "code",
   "execution_count": null,
   "id": "59e4f019-bd69-4bb1-b0c6-957d13ee6942",
   "metadata": {},
   "outputs": [],
   "source": [
    "#Q3.\n",
    "\"\"\"Multiple inheritance is a feature of object-oriented programming where a class can inherit from multiple base classes.\n",
    "This allows the derived class to have the combined features of all its base classes.\"\"\"\n",
    "\n",
    "#Example\n",
    "class A:\n",
    "    def method1(self):\n",
    "        print(\"This is method 1 from class A\")\n",
    "        \n",
    "class B:\n",
    "    def method2(self):\n",
    "        print(\"This is method 2 from class B\")\n",
    "        \n",
    "class C(A, B):\n",
    "    def method3(self):\n",
    "        print(\"This is method 3 from class C\")"
   ]
  },
  {
   "cell_type": "code",
   "execution_count": null,
   "id": "d9634edb-0e3e-4101-89b7-d4bbe8c8cd01",
   "metadata": {},
   "outputs": [],
   "source": [
    "#Q4.\n",
    "\"\"\"In Python, a getter is a method that is used to retrieve the value of a class attribute, while a setter\n",
    "is a method that is used to modify the value of a class attribute. Getters and setters are useful because\n",
    "they provide a way to control access to the data stored in a class, allowing for data encapsulation and abstraction.\"\"\"\n",
    "\n",
    "#Example\n",
    "\n",
    "class Person:\n",
    "    def __init__(self, name, age):\n",
    "        self._name = name\n",
    "        self._age = age\n",
    "        \n",
    "    def get_name(self):\n",
    "        return self._name\n",
    "    \n",
    "    def set_name(self, name):\n",
    "        self._name = name\n",
    "    \n",
    "    def get_age(self):\n",
    "        return self._age\n",
    "    \n",
    "    def set_age(self, age):\n",
    "        if age > 0:\n",
    "            self._age = age\n",
    "            \n",
    "my_person = Person(\"Alice\", 30)\n",
    "\n",
    "print(my_person.get_name())   # Output: Alice\n",
    "my_person.set_name(\"Bob\")\n",
    "print(my_person.get_name())   # Output: Bob\n",
    "\n",
    "print(my_person.get_age())    # Output: 30\n",
    "my_person.set_age(35)\n",
    "print(my_person.get_age())    # Output: 35"
   ]
  },
  {
   "cell_type": "code",
   "execution_count": null,
   "id": "fab500af-47c1-4237-8d7e-334824768ef9",
   "metadata": {},
   "outputs": [],
   "source": [
    "#Q5.\n",
    "\"\"\"Method overriding is a feature of object-oriented programming where a subclass provides its own implementation\n",
    "of a method that is already defined in its superclass. The subclass can override the method to change its behavior\n",
    "or to add additional functionality.\"\"\"\n",
    "\n",
    "#Example\n",
    "class Animal:\n",
    "    def make_sound(self):\n",
    "        print(\"The animal makes a sound.\")\n",
    "        \n",
    "class Cat(Animal):\n",
    "    def make_sound(self):\n",
    "        print(\"Meow!\")\n",
    "        \n",
    "class Dog(Animal):\n",
    "    def make_sound(self):\n",
    "        print(\"Woof!\")\n",
    "        \n",
    "# Create instances of Cat and Dog\n",
    "my_cat = Cat()\n",
    "my_dog = Dog()\n",
    "\n",
    "my_cat.make_sound()   # Output: Meow!\n",
    "my_dog.make_sound()   # Output: Woof!"
   ]
  }
 ],
 "metadata": {
  "kernelspec": {
   "display_name": "Python 3 (ipykernel)",
   "language": "python",
   "name": "python3"
  },
  "language_info": {
   "codemirror_mode": {
    "name": "ipython",
    "version": 3
   },
   "file_extension": ".py",
   "mimetype": "text/x-python",
   "name": "python",
   "nbconvert_exporter": "python",
   "pygments_lexer": "ipython3",
   "version": "3.10.8"
  }
 },
 "nbformat": 4,
 "nbformat_minor": 5
}
