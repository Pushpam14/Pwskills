{
 "cells": [
  {
   "cell_type": "code",
   "execution_count": 2,
   "id": "4a499efe-05eb-4562-899a-e401776094a2",
   "metadata": {},
   "outputs": [],
   "source": [
    "# Q1. Guido van Rossum"
   ]
  },
  {
   "cell_type": "code",
   "execution_count": 3,
   "id": "f514c764-86a2-4fa2-87fa-87fd22c7df9d",
   "metadata": {},
   "outputs": [],
   "source": [
    "# Q2. Python supports Object oriented programming , structured programming and  functional programming"
   ]
  },
  {
   "cell_type": "code",
   "execution_count": 4,
   "id": "f094f423-6ae3-411d-ade5-00383ade6387",
   "metadata": {},
   "outputs": [],
   "source": [
    "# Q3. Yes"
   ]
  },
  {
   "cell_type": "code",
   "execution_count": 5,
   "id": "0e61036e-eaae-4520-bd5b-f15921ba4d54",
   "metadata": {},
   "outputs": [],
   "source": [
    "# Q4. .py"
   ]
  },
  {
   "cell_type": "code",
   "execution_count": 6,
   "id": "9598d0a4-33df-4849-86a8-4c42a9bdabf2",
   "metadata": {},
   "outputs": [],
   "source": [
    "# Q5. It is both compiled and interpreted"
   ]
  },
  {
   "cell_type": "code",
   "execution_count": 7,
   "id": "ba3e0950-1c9e-4be8-a3db-83cfb5c389c4",
   "metadata": {},
   "outputs": [],
   "source": [
    "# Q6. Indentation"
   ]
  },
  {
   "cell_type": "code",
   "execution_count": 8,
   "id": "014d4b18-4cdb-46d1-99f1-83462e1b4517",
   "metadata": {},
   "outputs": [],
   "source": [
    "# Q7. #"
   ]
  },
  {
   "cell_type": "code",
   "execution_count": 9,
   "id": "c80c10a5-2250-4328-b378-6b292a8f6e9d",
   "metadata": {},
   "outputs": [],
   "source": [
    "# Q8. sys.version"
   ]
  },
  {
   "cell_type": "code",
   "execution_count": 10,
   "id": "963acfd7-478b-4917-a9c9-202741d04639",
   "metadata": {},
   "outputs": [],
   "source": [
    "# Q9. Lambda"
   ]
  },
  {
   "cell_type": "code",
   "execution_count": 11,
   "id": "85e810d4-45dc-461d-9a84-e5fce6600cb3",
   "metadata": {},
   "outputs": [],
   "source": [
    "# Q10. Preferred Installer Program"
   ]
  },
  {
   "cell_type": "code",
   "execution_count": 12,
   "id": "7b54199d-993b-43eb-be39-8968a9d3c176",
   "metadata": {},
   "outputs": [],
   "source": [
    "# Q11. input(), print()"
   ]
  },
  {
   "cell_type": "code",
   "execution_count": 13,
   "id": "5eb28fe5-4918-4a29-9936-c82e59936a02",
   "metadata": {},
   "outputs": [],
   "source": [
    "# Q12. They can be of any length."
   ]
  },
  {
   "cell_type": "code",
   "execution_count": 16,
   "id": "1d8b3721-a2fe-4d33-af51-b17694beaffc",
   "metadata": {},
   "outputs": [],
   "source": [
    "# Q13. User-friendly data structures , Versatile, Easy to read, learn and write, dynamically typed,portability,\n",
    "#      provide more functionality with less coding."
   ]
  },
  {
   "cell_type": "code",
   "execution_count": 17,
   "id": "8aac1129-f897-4c46-a129-c0a5af2f0801",
   "metadata": {},
   "outputs": [],
   "source": [
    "# Q14. In Python, memory is managed by the Python manager which determines where to put the application data in the memory."
   ]
  },
  {
   "cell_type": "code",
   "execution_count": 18,
   "id": "814cd202-9c88-4473-b040-b146f8093916",
   "metadata": {},
   "outputs": [],
   "source": [
    "# Q15. Firstly python is install from its official website.After this, install it on your PC.\n",
    "#      Look for the location where PYTHON has been installed on your PC using tge following command on your command\n",
    "#      prompt: cmd python.\n",
    "#      Then go to advanced system settings and add new variable and name it as PYTHON_NAME and paste the copied path.\n",
    "#      Then look for the path variable, select it's value and select edit\n",
    "#      Add a semicolon towards the end of the value if it's not present and then type %PYTHON_HOME%"
   ]
  },
  {
   "cell_type": "code",
   "execution_count": null,
   "id": "a206a966-01e5-4f34-992b-8c3b5bd5ed07",
   "metadata": {},
   "outputs": [],
   "source": [
    "# Q 16. YES"
   ]
  }
 ],
 "metadata": {
  "kernelspec": {
   "display_name": "Python 3 (ipykernel)",
   "language": "python",
   "name": "python3"
  },
  "language_info": {
   "codemirror_mode": {
    "name": "ipython",
    "version": 3
   },
   "file_extension": ".py",
   "mimetype": "text/x-python",
   "name": "python",
   "nbconvert_exporter": "python",
   "pygments_lexer": "ipython3",
   "version": "3.10.8"
  }
 },
 "nbformat": 4,
 "nbformat_minor": 5
}
