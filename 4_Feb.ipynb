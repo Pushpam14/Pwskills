{
 "cells": [
  {
   "cell_type": "code",
   "execution_count": 5,
   "id": "7f4a4ec0-fda4-461a-ba04-cb678ec16616",
   "metadata": {},
   "outputs": [
    {
     "name": "stdout",
     "output_type": "stream",
     "text": [
      "[('Virat Kohli', 24936), ('Jack Kallis', 25534), ('Ricky Ponting', 27483), ('Sachin Tendulkar', 34357)]\n"
     ]
    }
   ],
   "source": [
    "# 1.Ans.\n",
    "tupple = [('Sachin Tendulkar', 34357), ('Ricky Ponting', 27483), ('Jack Kallis', 25534), ('Virat Kohli', 24936)]\n",
    "sorted_tupple = sorted(tupple, key = lambda x:x[1])\n",
    "print(sorted_tupple)"
   ]
  },
  {
   "cell_type": "code",
   "execution_count": 6,
   "id": "3d99ae37-85bf-42fc-b94a-0d4bbd5d9582",
   "metadata": {},
   "outputs": [
    {
     "name": "stdout",
     "output_type": "stream",
     "text": [
      "[1, 4, 9, 16, 25, 36, 49, 64, 81, 100]\n"
     ]
    }
   ],
   "source": [
    "# 2.Ans.\n",
    "l = [1, 2, 3, 4, 5, 6, 7, 8, 9, 10]\n",
    "square_l = list(map(lambda x:x**2,l))\n",
    "print(square_l)"
   ]
  },
  {
   "cell_type": "code",
   "execution_count": 7,
   "id": "9c27a66d-cc9a-4247-ad4c-216a98f1e827",
   "metadata": {},
   "outputs": [
    {
     "name": "stdout",
     "output_type": "stream",
     "text": [
      "('1', '2', '3', '4', '5', '6', '7', '8', '9', '10')\n"
     ]
    }
   ],
   "source": [
    "# 3.Ans.\n",
    "l =  [1, 2, 3, 4, 5, 6, 7, 8, 9, 10]\n",
    "convert_l = tuple(map(lambda x:str(x),l))\n",
    "print(convert_l)"
   ]
  },
  {
   "cell_type": "code",
   "execution_count": 1,
   "id": "e40bea24-0209-4939-9cb3-bcb815efaf0c",
   "metadata": {},
   "outputs": [
    {
     "data": {
      "text/plain": [
       "15511210043330985984000000"
      ]
     },
     "execution_count": 1,
     "metadata": {},
     "output_type": "execute_result"
    }
   ],
   "source": [
    "# 4.Ans.\n",
    "from functools import reduce\n",
    "l = list(range(1,26))\n",
    "reduce(lambda x,y:x*y,l)"
   ]
  },
  {
   "cell_type": "code",
   "execution_count": 2,
   "id": "682b73f6-629c-4b41-9888-df3af0dd4da2",
   "metadata": {},
   "outputs": [
    {
     "name": "stdout",
     "output_type": "stream",
     "text": [
      "[6, 60, 90, 120]\n"
     ]
    }
   ],
   "source": [
    "# 5.Ans.\n",
    "l = [2, 3, 6, 9, 27, 60, 90, 120, 55, 46]\n",
    "ans = list(filter(lambda x:x%2==0 and x%3==0,l))\n",
    "print(ans)"
   ]
  },
  {
   "cell_type": "code",
   "execution_count": null,
   "id": "17e8eb93-ff61-45fc-b9f7-7c5a317b9f3d",
   "metadata": {},
   "outputs": [],
   "source": []
  }
 ],
 "metadata": {
  "kernelspec": {
   "display_name": "Python 3 (ipykernel)",
   "language": "python",
   "name": "python3"
  },
  "language_info": {
   "codemirror_mode": {
    "name": "ipython",
    "version": 3
   },
   "file_extension": ".py",
   "mimetype": "text/x-python",
   "name": "python",
   "nbconvert_exporter": "python",
   "pygments_lexer": "ipython3",
   "version": "3.10.8"
  }
 },
 "nbformat": 4,
 "nbformat_minor": 5
}
