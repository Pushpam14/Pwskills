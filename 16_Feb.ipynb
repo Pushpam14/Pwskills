{
 "cells": [
  {
   "cell_type": "code",
   "execution_count": null,
   "id": "4dfab762-f247-41a8-a115-b736d5c433fd",
   "metadata": {},
   "outputs": [],
   "source": [
    "#Q1.\n",
    "\"\"\"A database is an organized collection of data that is stored and accessed electronically. \n",
    "Databases are used to store data for various applications, such as web applications, enterprise applications,\n",
    "scientific research, and more.\n",
    "SQL and NoSQL are two types of database management systems that differ in their approach to data storage and retrieval:\n",
    "\n",
    "SQL (Structured Query Language) databases are relational databases that store data in tables with pre-defined columns\n",
    "and data types. SQL databases are based on the relational model, which means that data is organized in tables with\n",
    "relationships between tables. SQL databases are typically used for applications that require complex queries and\n",
    "transactions, such as banking applications, e-commerce sites, and enterprise resource planning systems.\n",
    "Examples of SQL databases include MySQL, Oracle, PostgreSQL, and Microsoft SQL Server.\n",
    "\n",
    "NoSQL (Not Only SQL) databases are non-relational databases that store data in a flexible, non-tabular format.\n",
    "NoSQL databases are designed to handle unstructured, semi-structured, and structured data, and are often used for\n",
    "big data and real-time web applications. NoSQL databases can be further categorized into several types,\n",
    "such as document stores, key-value stores, column-family stores, and graph databases.\n",
    "Examples of NoSQL databases include MongoDB, Cassandra, Couchbase, and Neo4j.\"\"\""
   ]
  },
  {
   "cell_type": "code",
   "execution_count": null,
   "id": "6325ee99-57d5-4df8-9f69-4fe57c2a1cce",
   "metadata": {},
   "outputs": [],
   "source": [
    "#Q2.\n",
    "\"\"\"DDL stands for Data Definition Language, which is a subset of SQL (Structured Query Language) used to define \n",
    "and manage the structure of a database. DDL statements are used to create, modify, and delete database objects\n",
    "such as tables, indexes, and views.\n",
    "\n",
    "CREATE:The CREATE statement is used to create a new database object, such as a table, view, or index.\n",
    "For example, the following statement creates a new table named \"employees\" with columns for \"employee_id\",\n",
    "\"name\", and \"salary\":\n",
    "\n",
    "CREATE TABLE employees (\n",
    "    employee_id INT PRIMARY KEY,\n",
    "    name VARCHAR(50),\n",
    "    salary DECIMAL(10,2)\n",
    ");\n",
    "\n",
    "DROP: The DROP statement is used to remove a database object, such as a table or view, from the database.\n",
    "For example, the following statement drops the \"employees\" table:\n",
    "DROP TABLE employees;\n",
    "\n",
    "ALTER: The ALTER statement is used to modify the structure of an existing database object, such as a table.\n",
    "For example, the following statement adds a new column named \"age\" to the \"employees\" table:\n",
    "ALTER TABLE employees ADD age INT;\n",
    "\n",
    "TRUNCATE: The TRUNCATE statement is used to remove all the data from a table while keeping the table structure intact.\n",
    "For example, the following statement removes all the data from the \"employees\" table:\n",
    "TRUNCATE TABLE employees;\"\"\""
   ]
  },
  {
   "cell_type": "code",
   "execution_count": null,
   "id": "abcb899c-5740-41eb-950e-fb307a478d7e",
   "metadata": {},
   "outputs": [],
   "source": [
    "#Q3.\n",
    "\"\"\"DML stands for Data Manipulation Language, which is a subset of SQL (Structured Query Language) used to\n",
    "manipulate data within a database. DML statements are used to add, modify, and delete data from a database.\n",
    "\n",
    "INSERT: The INSERT statement is used to add new data to a table. For example, the following statement adds\n",
    "a new row to the \"employees\" table with values for the \"employee_id\", \"name\", and \"salary\" columns:\n",
    "\n",
    "INSERT INTO employees (employee_id, name, salary)\n",
    "VALUES (1, 'John Smith', 50000);\n",
    "\n",
    "UPDATE: The UPDATE statement is used to modify existing data in a table. For example, the following statement\n",
    "updates the salary of the employee with an \"employee_id\" of 1 to 60000:\n",
    "\n",
    "UPDATE employees\n",
    "SET salary = 60000\n",
    "WHERE employee_id = 1;\n",
    "\n",
    "DELETE: The DELETE statement is used to remove data from a table. For example, the following statement removes\n",
    "the employee with an \"employee_id\" of 1 from the \"employees\" table:\n",
    "\n",
    "DELETE FROM employees\n",
    "WHERE employee_id = 1;\"\"\""
   ]
  },
  {
   "cell_type": "code",
   "execution_count": null,
   "id": "fe37b250-67be-4162-8afd-8ee677668c91",
   "metadata": {},
   "outputs": [],
   "source": [
    "#Q4.\n",
    "\"\"\"DQL stands for Data Query Language, which is a subset of SQL (Structured Query Language) used to retrieve data\n",
    "from a database. DQL statements are used to search and retrieve data from one or more database tables.\n",
    "The most commonly used DQL statement is the SELECT statement, which retrieves data from a database table based on\n",
    "a specified condition.\n",
    "\n",
    "SYNTAX:\n",
    "\n",
    "SELECT column1, column2, ...\n",
    "FROM table_name\n",
    "WHERE condition;\n",
    "\n",
    "where \"column1\", \"column2\", etc. are the names of the columns to retrieve data from, \"table_name\" is the name of \n",
    "the table to retrieve data from, and \"condition\" is an optional condition that specifies which rows to retrieve.\"\"\""
   ]
  },
  {
   "cell_type": "code",
   "execution_count": null,
   "id": "1ca4a6e3-9162-4578-afa9-312f96783490",
   "metadata": {},
   "outputs": [],
   "source": [
    "#Q5.\n",
    "\"\"\"Primary Key: A primary key is a column or group of columns in a table that uniquely identifies each row in the table.\n",
    "The primary key is used to ensure that each row in the table can be identified and accessed efficiently. \n",
    "In general, a primary key is chosen from one or more columns that have unique values, and it is used as a reference\n",
    "for other tables that need to reference the primary key of this table. Primary keys are typically used as the basis \n",
    "for creating relationships with other tables.\n",
    "\n",
    "Foreign Key: A foreign key is a column or group of columns in a table that references the primary key of another table.\n",
    "The foreign key is used to establish a relationship between two tables and ensure that the data in the tables is \n",
    "consistent. When a foreign key is defined, it ensures that the values in the foreign key column(s) of the referencing\n",
    "table correspond to the values in the primary key column(s) of the referenced table. This ensures that data integrity\n",
    "is maintained across the tables.\"\"\""
   ]
  },
  {
   "cell_type": "code",
   "execution_count": null,
   "id": "5b5aadc8-249e-4a4a-8d39-e80102c8623e",
   "metadata": {},
   "outputs": [],
   "source": [
    "#Q6.\n",
    "\"\"\"\n",
    "import mysql.connector\n",
    "\n",
    "mydb = mysql.connector.connect(\n",
    "  host=\"localhost\",\n",
    "  user=\"abc\",\n",
    "  password=\"password\"\n",
    ")\n",
    "print(mydb)\n",
    "mycursor = mydb.cursor()\n",
    "mycursor.execute(\"SHOW DATABASES\")\n",
    "\n",
    "the cursor() method creates a cursor object that allows us to execute SQL queries and fetch the results, \n",
    "and the execute() method of the cursor object is used to execute a SQL query.\n",
    "\"\"\""
   ]
  },
  {
   "cell_type": "code",
   "execution_count": null,
   "id": "bd27d0cc-2361-48ae-be72-004b8bbd08df",
   "metadata": {},
   "outputs": [],
   "source": [
    "#Q7.\n",
    "\"\"\"SQL query is executed in the following order of clauses:\n",
    "\n",
    "SELECT\n",
    "FROM\n",
    "JOIN\n",
    "WHERE\n",
    "GROUP BY\n",
    "HAVING\n",
    "ORDER BY\n",
    "LIMIT\"\"\""
   ]
  }
 ],
 "metadata": {
  "kernelspec": {
   "display_name": "Python 3 (ipykernel)",
   "language": "python",
   "name": "python3"
  },
  "language_info": {
   "codemirror_mode": {
    "name": "ipython",
    "version": 3
   },
   "file_extension": ".py",
   "mimetype": "text/x-python",
   "name": "python",
   "nbconvert_exporter": "python",
   "pygments_lexer": "ipython3",
   "version": "3.10.8"
  }
 },
 "nbformat": 4,
 "nbformat_minor": 5
}
