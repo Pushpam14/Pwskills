{
 "cells": [
  {
   "cell_type": "code",
   "execution_count": 4,
   "id": "7a97b8da-b64f-4988-bd71-56e725a332a5",
   "metadata": {},
   "outputs": [
    {
     "name": "stdin",
     "output_type": "stream",
     "text": [
      "Enter Your Percentage 98\n"
     ]
    },
    {
     "name": "stdout",
     "output_type": "stream",
     "text": [
      "A\n"
     ]
    }
   ],
   "source": [
    "#Q1\n",
    "Percentage = int(input(\"Enter Your Percentage\"))\n",
    "if Percentage > 90:\n",
    "    print(\"A\")\n",
    "elif Percentage > 80 and Percentage <= 90 :\n",
    "    print(\"B\")\n",
    "elif Percentage >=60 and Percentage <= 80 :\n",
    "    print(\"C\")\n",
    "else :\n",
    "    print(\"D\")"
   ]
  },
  {
   "cell_type": "code",
   "execution_count": 5,
   "id": "03c7cdc5-ef31-4a10-85d8-e36343e5e97d",
   "metadata": {},
   "outputs": [
    {
     "name": "stdin",
     "output_type": "stream",
     "text": [
      "Enter the Cost Price 60000\n"
     ]
    },
    {
     "name": "stdout",
     "output_type": "stream",
     "text": [
      "your tax will be 10%\n"
     ]
    }
   ],
   "source": [
    "#Q2.\n",
    "CostPrice = int(input(\"Enter the Cost Price\"))\n",
    "print(\"your tax will be\", end=\" \")\n",
    "if CostPrice > 100000 :\n",
    "    print(\"15%\")\n",
    "elif CostPrice > 50000 and CostPrice <=100000 :\n",
    "    print(\"10%\")\n",
    "else :\n",
    "    print (\"5%\")"
   ]
  },
  {
   "cell_type": "code",
   "execution_count": 6,
   "id": "72523154-5ba7-42e8-8374-2eae2731be60",
   "metadata": {},
   "outputs": [
    {
     "name": "stdin",
     "output_type": "stream",
     "text": [
      "Enter the City Name Delhi\n"
     ]
    },
    {
     "name": "stdout",
     "output_type": "stream",
     "text": [
      "Red Fort\n"
     ]
    }
   ],
   "source": [
    "#Q3.\n",
    "City = str(input(\"Enter the City Name\"))\n",
    "if City == \"Delhi\":\n",
    "    print(\"Red Fort\")\n",
    "elif City == \"Agra\":\n",
    "    print(\"Taj Mahal\") \n",
    "elif City == \"Jaipur\":\n",
    "    print(\"Jal Mahal\")\n",
    "else :\n",
    "    print(\"Monuments\")"
   ]
  },
  {
   "cell_type": "code",
   "execution_count": 7,
   "id": "167ae446-c1c6-4e62-99de-fefcb7b4aeca",
   "metadata": {},
   "outputs": [
    {
     "name": "stdin",
     "output_type": "stream",
     "text": [
      " 63\n"
     ]
    },
    {
     "name": "stdout",
     "output_type": "stream",
     "text": [
      "2\n"
     ]
    }
   ],
   "source": [
    "#Q4.\n",
    "num = int(input())\n",
    "count = 0\n",
    "while num > 10:\n",
    "    num /= 3\n",
    "    count += 1\n",
    "print(count)"
   ]
  },
  {
   "cell_type": "code",
   "execution_count": null,
   "id": "e375fdbf-ade4-4f4e-afa9-e27197ebd8e5",
   "metadata": {},
   "outputs": [],
   "source": [
    "#Q5.\n",
    "In Python, a while loop is used when you want to repeatedly execute\n",
    "a block of code as long as a certain condition is met.\n",
    " The basic structure of a while loop is \n",
    "    while condition :\n",
    "        #Code that to be executed\n",
    "The condition is checked at the start of each iteration of the loop. \n",
    "If it is true, the code inside the loop is executed. \n",
    "After the code inside the loop is executed, the condition \n",
    "is checked again, and the process repeats until the condition is false.\n",
    "  \n",
    "    Example of while loop:- sum of first n Natural numbers.\n",
    "    n = int(input())\n",
    "    sum = 0\n",
    "    while n > 0:\n",
    "        sum += n\n",
    "        n -= 1\n",
    "    print(sum)\n",
    "    "
   ]
  },
  {
   "cell_type": "code",
   "execution_count": 10,
   "id": "be68002f-e955-4aad-aa71-c6fe5b3adcb8",
   "metadata": {},
   "outputs": [
    {
     "name": "stdin",
     "output_type": "stream",
     "text": [
      " 5\n"
     ]
    },
    {
     "name": "stdout",
     "output_type": "stream",
     "text": [
      "15\n"
     ]
    }
   ],
   "source": [
    "#Q5.\n",
    "n = int(input())\n",
    "sum = 0\n",
    "while n > 0:\n",
    "    sum += n\n",
    "    n -= 1\n",
    "print(sum)"
   ]
  },
  {
   "cell_type": "code",
   "execution_count": 17,
   "id": "42840d05-402d-408f-8498-0e7499fa3fa3",
   "metadata": {},
   "outputs": [
    {
     "name": "stdin",
     "output_type": "stream",
     "text": [
      "Enter the number 5\n"
     ]
    },
    {
     "name": "stdout",
     "output_type": "stream",
     "text": [
      "     \n",
      "*     \n",
      "* *    \n",
      "* * *   \n",
      "* * * *  \n",
      "* * * * * \n",
      "     \n",
      "    * \n",
      "   * * \n",
      "  * * * \n",
      " * * * * \n",
      "* * * * * \n",
      " \n",
      "* * * * * \n",
      "* * * * \n",
      "* * * \n",
      "* * \n",
      "* \n"
     ]
    }
   ],
   "source": [
    "#Q6.\n",
    "n = int(input(\"Enter the number\"))\n",
    "\n",
    "i = 0\n",
    "while i <=n:\n",
    "    print(\"* \" * i+\" \" * (n - i))\n",
    "    i+=1\n",
    "\n",
    "i = 0\n",
    "while i <=n:\n",
    "    print(\" \" * (n - i) +\"* \" * i)\n",
    "    i+=1\n",
    "print(\" \")    \n",
    "i = 1\n",
    "while i <= n :\n",
    "    j = n\n",
    "    while j >= i:\n",
    "        print(\"*\", end = \" \")\n",
    "        j -= 1\n",
    "    print()\n",
    "    i += 1\n"
   ]
  },
  {
   "cell_type": "code",
   "execution_count": 18,
   "id": "d8ad96dc-5e9e-4854-a7a7-4b6ab513fc05",
   "metadata": {},
   "outputs": [
    {
     "name": "stdout",
     "output_type": "stream",
     "text": [
      "10 9 8 7 6 5 4 3 2 1 0 "
     ]
    }
   ],
   "source": [
    "#Q7.\n",
    "n = 10\n",
    "while n>=0:\n",
    "    print(n , end = ' ')\n",
    "    n-=1"
   ]
  },
  {
   "cell_type": "code",
   "execution_count": 19,
   "id": "3b8616df-b88a-42c3-9226-716f9f2b4058",
   "metadata": {},
   "outputs": [
    {
     "name": "stdout",
     "output_type": "stream",
     "text": [
      "10 9 8 7 6 5 4 3 2 1 0 "
     ]
    }
   ],
   "source": [
    "#Q8.\n",
    "n = 10\n",
    "while n>=0:\n",
    "    print(n , end = ' ')\n",
    "    n-=1"
   ]
  },
  {
   "cell_type": "code",
   "execution_count": null,
   "id": "97247d7a-c89b-45fb-96d2-2b3deec4971d",
   "metadata": {},
   "outputs": [],
   "source": []
  }
 ],
 "metadata": {
  "kernelspec": {
   "display_name": "Python 3 (ipykernel)",
   "language": "python",
   "name": "python3"
  },
  "language_info": {
   "codemirror_mode": {
    "name": "ipython",
    "version": 3
   },
   "file_extension": ".py",
   "mimetype": "text/x-python",
   "name": "python",
   "nbconvert_exporter": "python",
   "pygments_lexer": "ipython3",
   "version": "3.10.8"
  }
 },
 "nbformat": 4,
 "nbformat_minor": 5
}
