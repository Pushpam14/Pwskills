{
 "cells": [
  {
   "cell_type": "code",
   "execution_count": 2,
   "id": "b6d817f2-bf0f-4404-a5ad-0384a26890cf",
   "metadata": {},
   "outputs": [
    {
     "name": "stdout",
     "output_type": "stream",
     "text": [
      "[1, 3, 5, 7, 9, 11, 13, 15, 17, 19, 21, 23, 25]\n"
     ]
    }
   ],
   "source": [
    "# 1.Ans.\n",
    "   # def\n",
    "def get_odd_numbers():\n",
    "    l = []\n",
    "    for i in range(1,26):\n",
    "        if i % 2 != 0:\n",
    "            l.append(i)\n",
    "    return l\n",
    "l = get_odd_numbers()\n",
    "print(l)"
   ]
  },
  {
   "cell_type": "code",
   "execution_count": 3,
   "id": "92a6731c-7f18-495f-9b16-f192e636a4bf",
   "metadata": {},
   "outputs": [],
   "source": [
    "# 2.Ans.\n",
    "\"\"\"\n",
    "The special syntax *args in function definitions in python is used to\n",
    "pass a variable number of arguments to a function.\n",
    "It is used to pass a non-key worded, variable-length argument list.\n",
    "\n",
    "The special syntax **kwargs in function definitions in python is used to\n",
    "pass a keyworded, variable-length argument list. \n",
    "\"\"\"\n",
    "\n",
    "# Function for *args \n",
    "\n",
    "def test(*args):\n",
    "    return args\n",
    "    \n",
    "# Function for **kwargs\n",
    "def test1(**kwargs):\n",
    "    return kwargs"
   ]
  },
  {
   "cell_type": "code",
   "execution_count": 4,
   "id": "0233f259-399f-4273-b474-31d712d7707a",
   "metadata": {},
   "outputs": [
    {
     "data": {
      "text/plain": [
       "(1, 2, 3)"
      ]
     },
     "execution_count": 4,
     "metadata": {},
     "output_type": "execute_result"
    }
   ],
   "source": [
    "test(1,2,3)"
   ]
  },
  {
   "cell_type": "code",
   "execution_count": 9,
   "id": "43efe53a-ff5e-4478-9e95-745539614da6",
   "metadata": {},
   "outputs": [
    {
     "data": {
      "text/plain": [
       "{'a': [1, 2, 3, 4], 'b': 'abc', 'c': 4, 'd': 4.5, 'e': [1, 2, 3, 4]}"
      ]
     },
     "execution_count": 9,
     "metadata": {},
     "output_type": "execute_result"
    }
   ],
   "source": [
    "test1( a = [1,2,3,4],b = \"abc\", c = 4, d = 4.5,e = [1,2,3,4])"
   ]
  },
  {
   "cell_type": "code",
   "execution_count": 10,
   "id": "5bc3af2d-1613-4c87-b6e7-36cbacd81a7e",
   "metadata": {},
   "outputs": [
    {
     "name": "stdout",
     "output_type": "stream",
     "text": [
      "2\n",
      "4\n",
      "6\n",
      "8\n",
      "10\n"
     ]
    }
   ],
   "source": [
    "# 3.Ans.\n",
    "\"\"\"\n",
    "An iterator is an object that contains a countable number of values.\n",
    "An iterator is an object that can be iterated upon, \n",
    "meaning that you can traverse through all the values.\n",
    "\n",
    "The iterator object is initialized using the iter() method. \n",
    "It uses the next() method for iteration.\n",
    "\n",
    "__iter__(): The iter() method is called for the initialization of an iterator.\n",
    "            This returns an iterator object\n",
    "__next__(): The next method returns the next value for the iterable.\n",
    "\"\"\"\n",
    "list =  [2, 4, 6, 8, 10, 12, 14, 16, 18, 20]\n",
    "iterator = iter(list)\n",
    "print(next(iterator))\n",
    "print(next(iterator))\n",
    "print(next(iterator))\n",
    "print(next(iterator))\n",
    "print(next(iterator))"
   ]
  },
  {
   "cell_type": "code",
   "execution_count": 12,
   "id": "9945cf54-dbee-4b47-8260-7f751e7d1baa",
   "metadata": {},
   "outputs": [],
   "source": [
    "# 4.Ans.\n",
    "\"\"\"\n",
    "In Python, a generator is a function that returns an iterator \n",
    "that produces a sequence of values when iterated over.\n",
    "\n",
    "The yield keyword is used to produce a value from the generator.\n",
    "\"\"\"\n",
    "\n",
    "# Example of Generator Function\n",
    "#To print Fibonacci series\n",
    "\n",
    "def test(n):\n",
    "    a , b = 0,1\n",
    "    for i in range(n):\n",
    "        yield a\n",
    "        a , b = b , a+b"
   ]
  },
  {
   "cell_type": "code",
   "execution_count": 17,
   "id": "5cc4552b-abcb-4b17-a5ee-a6e87a7751a7",
   "metadata": {},
   "outputs": [],
   "source": [
    "# 5.Ans.\n",
    "\n",
    "def primes_gen():\n",
    "    \"\"\"\n",
    "    Generate prime numbers less than 1000.\n",
    "    \"\"\"\n",
    "    primes = []\n",
    "    for num in range(2, 1000):\n",
    "        is_prime = True\n",
    "        for prime in primes:\n",
    "            if num % prime == 0:\n",
    "                is_prime = False\n",
    "                break\n",
    "        if is_prime:\n",
    "            primes.append(num)\n",
    "            yield num\n"
   ]
  },
  {
   "cell_type": "code",
   "execution_count": 18,
   "id": "cb7a2451-900d-4c25-a6ae-d2d963d6e7b9",
   "metadata": {},
   "outputs": [
    {
     "name": "stdout",
     "output_type": "stream",
     "text": [
      "2\n",
      "3\n",
      "5\n",
      "7\n",
      "11\n",
      "13\n",
      "17\n",
      "19\n",
      "23\n",
      "29\n",
      "31\n",
      "37\n",
      "41\n",
      "43\n",
      "47\n",
      "53\n",
      "59\n",
      "61\n",
      "67\n",
      "71\n"
     ]
    }
   ],
   "source": [
    "primes = primes_gen()\n",
    "for i in range(20):\n",
    "    print(next(primes))\n"
   ]
  },
  {
   "cell_type": "code",
   "execution_count": 13,
   "id": "b6cde2fe-e7ed-48ec-b7d7-f7260807816c",
   "metadata": {},
   "outputs": [
    {
     "name": "stdout",
     "output_type": "stream",
     "text": [
      "0\n",
      "1\n",
      "1\n",
      "2\n",
      "3\n",
      "5\n",
      "8\n",
      "13\n",
      "21\n",
      "34\n"
     ]
    }
   ],
   "source": [
    "# 6.Ans.\n",
    "n = 10\n",
    "a,b = 0,1\n",
    "count = 0\n",
    "while count < n:\n",
    "    print(a)\n",
    "    c = a+b\n",
    "    a = b\n",
    "    b = c\n",
    "    count+=1\n",
    "    "
   ]
  },
  {
   "cell_type": "code",
   "execution_count": 14,
   "id": "89b411f3-759a-47f7-bb05-39c8292c5057",
   "metadata": {},
   "outputs": [
    {
     "name": "stdout",
     "output_type": "stream",
     "text": [
      "['p', 'w', 's', 'k', 'i', 'l', 'l', 's']\n"
     ]
    }
   ],
   "source": [
    "# 7.Ans.\n",
    "str = \"pwskills\"\n",
    "characters = [char for char in str]\n",
    "print(characters)"
   ]
  },
  {
   "cell_type": "code",
   "execution_count": 15,
   "id": "683f31ec-6033-45c7-bba4-f825d93cad47",
   "metadata": {},
   "outputs": [
    {
     "name": "stdin",
     "output_type": "stream",
     "text": [
      "Enter a number 242\n"
     ]
    },
    {
     "name": "stdout",
     "output_type": "stream",
     "text": [
      "Number is Palindrome\n"
     ]
    }
   ],
   "source": [
    "# 8.Ans.\n",
    "n = int(input(\"Enter a number\"))\n",
    "temp = n\n",
    "reverse = 0\n",
    "while(n>0):\n",
    "    digit = n%10\n",
    "    reverse = reverse*10+digit\n",
    "    n = n//10\n",
    "if(temp == reverse):\n",
    "    print(\"Number is Palindrome\")\n",
    "else:\n",
    "    print(\"Number is not palindrome\")"
   ]
  },
  {
   "cell_type": "code",
   "execution_count": 16,
   "id": "cfee6a99-9d87-4de5-84cc-ae1b87c0d9da",
   "metadata": {},
   "outputs": [
    {
     "name": "stdout",
     "output_type": "stream",
     "text": [
      "[1, 3, 5, 7, 9, 11, 13, 15, 17, 19, 21, 23, 25, 27, 29, 31, 33, 35, 37, 39, 41, 43, 45, 47, 49, 51, 53, 55, 57, 59, 61, 63, 65, 67, 69, 71, 73, 75, 77, 79, 81, 83, 85, 87, 89, 91, 93, 95, 97, 99]\n"
     ]
    }
   ],
   "source": [
    "# 9.Ans.\n",
    "Odd_numbers = [n for n in range(1,101) if n % 2 != 0]\n",
    "print(Odd_numbers)"
   ]
  },
  {
   "cell_type": "code",
   "execution_count": null,
   "id": "bea83054-291c-4b48-a121-65482a2d3ac6",
   "metadata": {},
   "outputs": [],
   "source": []
  }
 ],
 "metadata": {
  "kernelspec": {
   "display_name": "Python 3 (ipykernel)",
   "language": "python",
   "name": "python3"
  },
  "language_info": {
   "codemirror_mode": {
    "name": "ipython",
    "version": 3
   },
   "file_extension": ".py",
   "mimetype": "text/x-python",
   "name": "python",
   "nbconvert_exporter": "python",
   "pygments_lexer": "ipython3",
   "version": "3.10.8"
  }
 },
 "nbformat": 4,
 "nbformat_minor": 5
}
