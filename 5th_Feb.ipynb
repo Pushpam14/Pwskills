{
 "cells": [
  {
   "cell_type": "code",
   "execution_count": 3,
   "id": "c4c17d0d-0ced-4f48-914a-283be5666c64",
   "metadata": {},
   "outputs": [
    {
     "name": "stdout",
     "output_type": "stream",
     "text": [
      "My name is Pushpam Kumar Jha\n",
      "I study in NIT Patna\n"
     ]
    }
   ],
   "source": [
    "# 1.Ans.\n",
    "\"\"\"\n",
    "A class is a user-defined blueprint or prototype from which objects are created. \n",
    "Classes provide a means of bundling data and functionality together.\n",
    "\n",
    "Syntax of class:-\n",
    "class className:\n",
    "    Statement\n",
    "\n",
    "An Object is an instance of a Class. \n",
    "A class is like a blueprint while an instance is a copy of the class with actual values.\n",
    "\n",
    "Syntax of object:-\n",
    "obj = className()\n",
    "print(obj.attr)\n",
    "\"\"\"\n",
    "\n",
    "# Example to show the class and object\n",
    "\n",
    "class myself:\n",
    "\n",
    "\tname = \"Pushpam Kumar Jha\"\n",
    "\tcollege = \"NIT Patna\"\n",
    "\n",
    "\tdef Intro(self):\n",
    "\t\tprint(\"My name is\", self.name)\n",
    "\t\tprint(\"I study in\", self.college)\n",
    "\n",
    "obj = myself()\n",
    "\n",
    "obj.Intro()\n",
    "\n"
   ]
  },
  {
   "cell_type": "code",
   "execution_count": 4,
   "id": "751bfe7d-5d1c-4d44-80e4-e57270170806",
   "metadata": {},
   "outputs": [
    {
     "data": {
      "text/plain": [
       "'The four Pillars of OOPS are :-\\n\\n1.Polymorphism\\n2.Encapsulation\\n3.Inheritance\\n4.Data Abstraction'"
      ]
     },
     "execution_count": 4,
     "metadata": {},
     "output_type": "execute_result"
    }
   ],
   "source": [
    "# 2.Ans.\n",
    "'''The four Pillars of OOPS are :-\n",
    "\n",
    "1.Polymorphism\n",
    "2.Encapsulation\n",
    "3.Inheritance\n",
    "4.Data Abstraction'''"
   ]
  },
  {
   "cell_type": "code",
   "execution_count": 5,
   "id": "dacb8841-246f-4e09-a08b-052d4c9ac738",
   "metadata": {},
   "outputs": [
    {
     "name": "stdout",
     "output_type": "stream",
     "text": [
      "Good Morning Pushpam\n"
     ]
    }
   ],
   "source": [
    "\"\"\"\n",
    "All classes have a function called __init__(), which is always executed when the class is being initiated.\n",
    "\n",
    "The __init__() function is use  to assign values to object properties,\n",
    "or other operations that are necessary to do when the object is being created.\n",
    "\"\"\"\n",
    "\n",
    "# Example \n",
    "class hello:\n",
    "    def __init__(self,name):\n",
    "        self.name = name\n",
    "    \n",
    "    def greeting(self):\n",
    "        print(\"Good Morning\" , self.name)\n",
    "        \n",
    "h = hello(\"Pushpam\")\n",
    "h.greeting()"
   ]
  },
  {
   "cell_type": "code",
   "execution_count": null,
   "id": "c8270140-fb54-4316-a868-52099455e72d",
   "metadata": {},
   "outputs": [],
   "source": [
    "# 4.Ans.\n",
    "\n",
    "self represents the instance of the class.\n",
    "By using the self  we can access the attributes and methods of the class in python.\n",
    "It binds the attributes with the given arguments.\n",
    "The reason you need to use self is because\n",
    "Python does not use the @ syntax to refer to instance attributes. "
   ]
  },
  {
   "cell_type": "code",
   "execution_count": 6,
   "id": "4465cff2-dcfa-4f5b-93c1-5b8398fa280a",
   "metadata": {},
   "outputs": [],
   "source": [
    "# 5.Ans.\n",
    "\"\"\"\n",
    "Inheritance allows us to define a class that inherits all the methods and properties from another class.\n",
    "\n",
    "Parent class is the class being inherited from, also called base class.\n",
    "\n",
    "Child class is the class that inherits from another class, also called derived class.\n",
    "\"\"\"\n",
    "\n",
    "#In Python 3 types of Inheritance are possible :-\n",
    "\n",
    "# 1. Example of Single Inheritance\n",
    "\n",
    "class Animal:\n",
    "    def eat(self):\n",
    "        print(\"Eating food\")\n",
    "    \n",
    "class lion(Animal):\n",
    "    def king(self):\n",
    "        print(\"Royal\")\n",
    "        \n",
    "# 2. Example of Multiple Inheritance\n",
    "\n",
    "class base1:\n",
    "    def fly(self):\n",
    "        print(\"Flying...\")\n",
    "\n",
    "class base2:\n",
    "    def swim(self):\n",
    "        print(\"Swimming...\")\n",
    "\n",
    "class bas3(base1, base2):\n",
    "    def quack(self):\n",
    "        print(\"Quack\")\n",
    "        \n",
    "# 3.Example of Multilevel Inheritance\n",
    "\n",
    "class Animal1:\n",
    "    def eat(self):\n",
    "        print(\"Eating\")\n",
    "class Animal2(Animal1):\n",
    "    def swim(self):\n",
    "        print(\"Swimming\")\n",
    "class Animal3(Animal2):\n",
    "    def run(self):\n",
    "        print(\"Running\")"
   ]
  }
 ],
 "metadata": {
  "kernelspec": {
   "display_name": "Python 3 (ipykernel)",
   "language": "python",
   "name": "python3"
  },
  "language_info": {
   "codemirror_mode": {
    "name": "ipython",
    "version": 3
   },
   "file_extension": ".py",
   "mimetype": "text/x-python",
   "name": "python",
   "nbconvert_exporter": "python",
   "pygments_lexer": "ipython3",
   "version": "3.10.8"
  }
 },
 "nbformat": 4,
 "nbformat_minor": 5
}
